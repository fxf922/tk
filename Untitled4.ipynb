{
  "nbformat": 4,
  "nbformat_minor": 0,
  "metadata": {
    "colab": {
      "name": "Untitled4.ipynb",
      "provenance": [],
      "mount_file_id": "1dYmbn37W6SFW0iMlt2BleNVvMEiRA0_x",
      "authorship_tag": "ABX9TyNnFJVq/tBXgvxDdxXFKCu+",
      "include_colab_link": true
    },
    "kernelspec": {
      "name": "python3",
      "display_name": "Python 3"
    },
    "language_info": {
      "name": "python"
    }
  },
  "cells": [
    {
      "cell_type": "markdown",
      "metadata": {
        "id": "view-in-github",
        "colab_type": "text"
      },
      "source": [
        "<a href=\"https://colab.research.google.com/github/fxf922/tk/blob/main/Untitled4.ipynb\" target=\"_parent\"><img src=\"https://colab.research.google.com/assets/colab-badge.svg\" alt=\"Open In Colab\"/></a>"
      ]
    },
    {
      "cell_type": "code",
      "metadata": {
        "id": "xgxVVAhgTM4g"
      },
      "source": [
        "from sklearn.linear_model import LinearRegression\n",
        "import pandas as pd\n",
        "import numpy as np\n",
        "import matplotlib.pyplot as plt\n"
      ],
      "execution_count": 15,
      "outputs": []
    },
    {
      "cell_type": "code",
      "metadata": {
        "id": "uizYu0brTnHD"
      },
      "source": [
        "data = pd.DataFrame({\n",
        "    \"temprature(=x)\":[8,10,6,15,12,16,20,13,24,26,12,18,19,16,20,23,26,28],\n",
        "    \"sales(=y)\":[30,35,28,38,35,40,60,34,63,65,38,40,41,43,42,55,65,69]\n",
        "    })"
      ],
      "execution_count": 16,
      "outputs": []
    },
    {
      "cell_type": "code",
      "metadata": {
        "colab": {
          "base_uri": "https://localhost:8080/",
          "height": 279
        },
        "id": "QXW5zL5PUjpj",
        "outputId": "b4bf7324-66fe-4850-b614-d2f3ed6e6080"
      },
      "source": [
        "plt.scatter(data[\"temprature(=x)\"],data[\"sales(=y)\"])\n",
        "plt.xlabel(\"temprature(°)\")\n",
        "plt.ylabel(\"sales\")\n",
        "plt.grid(which='major',color='black',linestyle=':')"
      ],
      "execution_count": 17,
      "outputs": [
        {
          "output_type": "display_data",
          "data": {
            "image/png": "[encoded data removed]",
            "text/plain": [
              "<Figure size 432x288 with 1 Axes>"
            ]
          },
          "metadata": {
            "needs_background": "light"
          }
        }
      ]
    },
    {
      "cell_type": "code",
      "metadata": {
        "id": "KcFG98qNUs-B"
      },
      "source": [
        "x = data[\"temprature(=x)\"].values\n",
        "y = data[\"sales(=y)\"].values\n",
        "X = x.reshape(-1,1)"
      ],
      "execution_count": 18,
      "outputs": []
    },
    {
      "cell_type": "code",
      "metadata": {
        "colab": {
          "base_uri": "https://localhost:8080/"
        },
        "id": "tgaMqJ3xUyF_",
        "outputId": "9a5d6efe-f6f2-49ed-83f3-12cf795b4b4c"
      },
      "source": [
        "regr = LinearRegression(fit_intercept = True)\n",
        "regr.fit(X,y)"
      ],
      "execution_count": 19,
      "outputs": [
        {
          "output_type": "execute_result",
          "data": {
            "text/plain": [
              "LinearRegression()"
            ]
          },
          "metadata": {},
          "execution_count": 19
        }
      ]
    },
    {
      "cell_type": "code",
      "metadata": {
        "colab": {
          "base_uri": "https://localhost:8080/"
        },
        "id": "pt7cTQv8VDzG",
        "outputId": "5f160aa0-80e0-4525-cbe4-d119a36e35d7"
      },
      "source": [
        "a = regr.coef_#傾きを求める\n",
        "b = regr.intercept_#切片を求める\n",
        "print(a)\n",
        "print(b)"
      ],
      "execution_count": 20,
      "outputs": [
        {
          "output_type": "stream",
          "name": "stdout",
          "text": [
            "[1.92602996]\n",
            "12.226591760299634\n"
          ]
        }
      ]
    },
    {
      "cell_type": "code",
      "metadata": {
        "colab": {
          "base_uri": "https://localhost:8080/"
        },
        "id": "uhseqMQGVyTx",
        "outputId": "76d022c6-8ec4-4a5a-fad1-ad74ebb8561d"
      },
      "source": [
        "regr.get_params()"
      ],
      "execution_count": 21,
      "outputs": [
        {
          "output_type": "execute_result",
          "data": {
            "text/plain": [
              "{'copy_X': True,\n",
              " 'fit_intercept': True,\n",
              " 'n_jobs': None,\n",
              " 'normalize': 'deprecated',\n",
              " 'positive': False}"
            ]
          },
          "metadata": {},
          "execution_count": 21
        }
      ]
    },
    {
      "cell_type": "code",
      "metadata": {
        "id": "5hDJhljVV2iL",
        "colab": {
          "base_uri": "https://localhost:8080/",
          "height": 297
        },
        "outputId": "e016d1ed-733f-4c02-8fca-999c76ac2768"
      },
      "source": [
        "#直線の式\n",
        "y_est_sklearn = regr.intercept_ + regr.coef_[0] * x\n",
        "#本来の気温と売上のプロット\n",
        "plt.scatter(x, y, marker='o')\n",
        "#本来の気温と、予測の直線の式\n",
        "plt.plot(x, y_est_sklearn, linestyle=':', color='green')\n",
        "#図の細かい設定\n",
        "plt.grid(which='major',color='black',linestyle=':')\n",
        "plt.grid(which='minor',color='black',linestyle=':')\n",
        "plt.xlabel(\"temprature(°)\")\n",
        "plt.ylabel(\"sales\")"
      ],
      "execution_count": 22,
      "outputs": [
        {
          "output_type": "execute_result",
          "data": {
            "text/plain": [
              "Text(0, 0.5, 'sales')"
            ]
          },
          "metadata": {},
          "execution_count": 22
        },
        {
          "output_type": "display_data",
          "data": {
            "image/png": "[encoded data removed]",
            "text/plain": [
              "<Figure size 432x288 with 1 Axes>"
            ]
          },
          "metadata": {
            "needs_background": "light"
          }
        }
      ]
    },
    {
      "cell_type": "code",
      "metadata": {
        "id": "PAn7RslhXOrX"
      },
      "source": [
        "z = pd.DataFrame([10,25,24,22])"
      ],
      "execution_count": 23,
      "outputs": []
    },
    {
      "cell_type": "code",
      "metadata": {
        "colab": {
          "base_uri": "https://localhost:8080/"
        },
        "id": "yR1UivorXVd6",
        "outputId": "c8b42f1c-d3cc-4774-8350-c386d4ccfe11"
      },
      "source": [
        "regr.predict(z)"
      ],
      "execution_count": 24,
      "outputs": [
        {
          "output_type": "execute_result",
          "data": {
            "text/plain": [
              "array([31.48689139, 60.37734082, 58.45131086, 54.59925094])"
            ]
          },
          "metadata": {},
          "execution_count": 24
        }
      ]
    }
  ]
}